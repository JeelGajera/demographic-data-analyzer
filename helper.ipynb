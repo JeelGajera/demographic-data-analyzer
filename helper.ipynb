{
 "cells": [
  {
   "cell_type": "code",
   "execution_count": 17,
   "metadata": {},
   "outputs": [
    {
     "name": "stdout",
     "output_type": "stream",
     "text": [
      "   age         workclass  fnlwgt  education  education-num  \\\n",
      "0   39         State-gov   77516  Bachelors             13   \n",
      "1   50  Self-emp-not-inc   83311  Bachelors             13   \n",
      "2   38           Private  215646    HS-grad              9   \n",
      "3   53           Private  234721       11th              7   \n",
      "4   28           Private  338409  Bachelors             13   \n",
      "\n",
      "       marital-status         occupation   relationship   race     sex  \\\n",
      "0       Never-married       Adm-clerical  Not-in-family  White    Male   \n",
      "1  Married-civ-spouse    Exec-managerial        Husband  White    Male   \n",
      "2            Divorced  Handlers-cleaners  Not-in-family  White    Male   \n",
      "3  Married-civ-spouse  Handlers-cleaners        Husband  Black    Male   \n",
      "4  Married-civ-spouse     Prof-specialty           Wife  Black  Female   \n",
      "\n",
      "   capital-gain  capital-loss  hours-per-week native-country salary  \n",
      "0          2174             0              40  United-States  <=50K  \n",
      "1             0             0              13  United-States  <=50K  \n",
      "2             0             0              40  United-States  <=50K  \n",
      "3             0             0              40  United-States  <=50K  \n",
      "4             0             0              40           Cuba  <=50K  \n"
     ]
    }
   ],
   "source": [
    "import pandas as pd\n",
    "\n",
    "df = pd.read_csv('adult.data.csv')\n",
    "print(df.head())"
   ]
  },
  {
   "cell_type": "code",
   "execution_count": 10,
   "metadata": {},
   "outputs": [
    {
     "name": "stdout",
     "output_type": "stream",
     "text": [
      "race\n",
      "White                 27816\n",
      "Black                  3124\n",
      "Asian-Pac-Islander     1039\n",
      "Amer-Indian-Eskimo      311\n",
      "Other                   271\n",
      "Name: count, dtype: int64\n"
     ]
    }
   ],
   "source": [
    "# How many of each race are represented in this dataset? This should be a Pandas series with race names as the index labels.\n",
    "race_count = pd.Series(df['race'].value_counts())\n",
    "\n",
    "print(race_count)"
   ]
  },
  {
   "cell_type": "code",
   "execution_count": 23,
   "metadata": {},
   "outputs": [
    {
     "name": "stdout",
     "output_type": "stream",
     "text": [
      "39.4\n"
     ]
    }
   ],
   "source": [
    "# What is the average age of men?\n",
    "average_age_men = df.loc[df['sex'] == 'Male']['age'].mean().round(1)\n",
    "print(average_age_men)"
   ]
  },
  {
   "cell_type": "code",
   "execution_count": 28,
   "metadata": {},
   "outputs": [
    {
     "data": {
      "text/plain": [
       "16.4"
      ]
     },
     "execution_count": 28,
     "metadata": {},
     "output_type": "execute_result"
    }
   ],
   "source": [
    "# What is the percentage of people who have a Bachelor's degree?\n",
    "percentage_bachelors = (df.loc[df['education'] == 'Bachelors']['education'].count() / df['education'].count() * 100).round(1)\n",
    "percentage_bachelors"
   ]
  },
  {
   "cell_type": "code",
   "execution_count": 38,
   "metadata": {},
   "outputs": [
    {
     "name": "stderr",
     "output_type": "stream",
     "text": [
      "C:\\Users\\JILL\\AppData\\Local\\Temp\\ipykernel_14236\\486735122.py:5: UserWarning: Boolean Series key will be reindexed to match DataFrame index.\n",
      "  higher_education = df.loc[df['education'].isin(['Bachelors', 'Masters', 'Doctorate'])][df['salary'] == '>50K']['education'].count()\n",
      "C:\\Users\\JILL\\AppData\\Local\\Temp\\ipykernel_14236\\486735122.py:6: UserWarning: Boolean Series key will be reindexed to match DataFrame index.\n",
      "  lower_education = df.loc[~df['education'].isin(['Bachelors', 'Masters', 'Doctorate'])][df['salary'] == '>50K']['education'].count()\n"
     ]
    }
   ],
   "source": [
    "# What percentage of people with advanced education (`Bachelors`, `Masters`, or `Doctorate`) make more than 50K?\n",
    "# What percentage of people without advanced education make more than 50K?\n",
    "\n",
    "# with and without `Bachelors`, `Masters`, or `Doctorate`\n",
    "higher_education = df.loc[df['education'].isin(['Bachelors', 'Masters', 'Doctorate'])][df['salary'] == '>50K']['education'].count()\n",
    "lower_education = df.loc[~df['education'].isin(['Bachelors', 'Masters', 'Doctorate'])][df['salary'] == '>50K']['education'].count()\n",
    "\n",
    "# persentage with salary >50K\n",
    "higher_education_rich = (higher_education / df['education'].count() * 100).round(1)\n",
    "lower_education_rich = (lower_education / df['education'].count() * 100).round(1)"
   ]
  },
  {
   "cell_type": "code",
   "execution_count": 72,
   "metadata": {},
   "outputs": [
    {
     "name": "stdout",
     "output_type": "stream",
     "text": [
      "count    32561.000000\n",
      "mean        40.437456\n",
      "std         12.347429\n",
      "min          1.000000\n",
      "25%         40.000000\n",
      "50%         40.000000\n",
      "75%         45.000000\n",
      "max         99.000000\n",
      "Name: hours-per-week, dtype: float64\n"
     ]
    }
   ],
   "source": [
    "# What is the minimum number of hours a person works per week (hours-per-week feature)?\n",
    "min_work_hours = df['hours-per-week'].min()\n",
    "print(min_work_hours)"
   ]
  },
  {
   "cell_type": "code",
   "execution_count": 80,
   "metadata": {},
   "outputs": [
    {
     "name": "stdout",
     "output_type": "stream",
     "text": [
      "12.2\n"
     ]
    },
    {
     "name": "stderr",
     "output_type": "stream",
     "text": [
      "C:\\Users\\JILL\\AppData\\Local\\Temp\\ipykernel_14236\\1781668210.py:3: UserWarning: Boolean Series key will be reindexed to match DataFrame index.\n",
      "  num_min_workers = df.loc[df['hours-per-week'].apply(lambda a: a <= 40)][df['salary'] == '>50K']['hours-per-week'].count()\n"
     ]
    }
   ],
   "source": [
    "# What percentage of the people who work the minimum number of hours per week have a salary of >50K?\n",
    "# here 25% people work 40 hour per week\n",
    "num_min_workers = df.loc[df['hours-per-week'].apply(lambda a: a <= 40)][df['salary'] == '>50K']['hours-per-week'].count()\n",
    "\n",
    "rich_percentage = (num_min_workers / df['hours-per-week'].count() * 100).round(1)\n",
    "print(rich_percentage)"
   ]
  },
  {
   "cell_type": "code",
   "execution_count": 90,
   "metadata": {},
   "outputs": [
    {
     "name": "stdout",
     "output_type": "stream",
     "text": [
      "Highest earning country:  United-States\n",
      "Highest earning country percentage:  22.0\n"
     ]
    }
   ],
   "source": [
    "# What country has the highest percentage of people that earn >50K?\n",
    "highest_earning_country = df.loc[df['salary'] == '>50K']['native-country'].value_counts().idxmax()\n",
    "highest_earning_country_percentage = (df.loc[df['salary'] == '>50K']['native-country'].value_counts().max() / df['native-country'].count() * 100).round(1)\n",
    "\n",
    "# print\n",
    "print('Highest earning country: ', highest_earning_country)\n",
    "print('Highest earning country percentage: ', highest_earning_country_percentage)"
   ]
  },
  {
   "cell_type": "code",
   "execution_count": 85,
   "metadata": {},
   "outputs": [
    {
     "name": "stdout",
     "output_type": "stream",
     "text": [
      "Prof-specialty\n"
     ]
    }
   ],
   "source": [
    "# Identify the most popular occupation for those who earn >50K in India.\n",
    "top_IN_occupation = df.loc[df['native-country'] == 'India']['occupation'].value_counts().idxmax()\n",
    "print(top_IN_occupation)"
   ]
  }
 ],
 "metadata": {
  "kernelspec": {
   "display_name": "Python 3",
   "language": "python",
   "name": "python3"
  },
  "language_info": {
   "codemirror_mode": {
    "name": "ipython",
    "version": 3
   },
   "file_extension": ".py",
   "mimetype": "text/x-python",
   "name": "python",
   "nbconvert_exporter": "python",
   "pygments_lexer": "ipython3",
   "version": "3.11.2"
  },
  "orig_nbformat": 4
 },
 "nbformat": 4,
 "nbformat_minor": 2
}
